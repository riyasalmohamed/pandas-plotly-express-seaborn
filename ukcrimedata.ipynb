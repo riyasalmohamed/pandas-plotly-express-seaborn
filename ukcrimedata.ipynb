{
 "cells": [
  {
   "cell_type": "code",
   "execution_count": 10,
   "metadata": {},
   "outputs": [],
   "source": [
    "import pandas as pd\n",
    "import plotly.express as px\n"
   ]
  },
  {
   "cell_type": "code",
   "execution_count": 11,
   "metadata": {},
   "outputs": [
    {
     "data": {
      "text/plain": [
       "(179222, 10)"
      ]
     },
     "execution_count": 11,
     "metadata": {},
     "output_type": "execute_result"
    }
   ],
   "source": [
    "data=pd.read_csv(\"C:/Users/Syed - DM/Downloads/ukcrimedata/2023-01-metropolitan-street.csv\")\n",
    "data1=pd.read_csv(\"C:/Users/Syed - DM/Downloads/ukcrimedata/2023-01-norfolk-street.csv\")\n",
    "data2=pd.read_csv(\"C:/Users/Syed - DM/Downloads/ukcrimedata/2023-01-northamptonshire-street.csv\")\n",
    "data3=pd.read_csv(\"C:/Users/Syed - DM/Downloads/ukcrimedata/2023-01-northern-ireland-street.csv\")\n",
    "data4=pd.read_csv(\"C:/Users/Syed - DM/Downloads/ukcrimedata/2023-01-northumbria-street.csv\")\n",
    "data5=pd.read_csv(\"C:/Users/Syed - DM/Downloads/ukcrimedata/2023-01-north-wales-street.csv\")\n",
    "data6=pd.read_csv(\"C:/Users/Syed - DM/Downloads/ukcrimedata/2023-01-north-yorkshire-street.csv\")\n",
    "data7=pd.read_csv(\"C:/Users/Syed - DM/Downloads/ukcrimedata/2023-01-nottinghamshire-street.csv\")\n",
    "data8=pd.read_csv(\"C:/Users/Syed - DM/Downloads/ukcrimedata/2023-01-south-wales-street.csv\")\n",
    "data9=pd.read_csv(\"C:/Users/Syed - DM/Downloads/ukcrimedata/2023-01-south-yorkshire-street.csv\")\n",
    "data10=pd.read_csv(\"C:/Users/Syed - DM/Downloads/ukcrimedata/2023-01-staffordshire-street.csv\")\n",
    "\n",
    "frames = [data,data1,data2,data3,data4,data5,data6,data7,data8,data9,data10]\n",
    "\n",
    "finaldata = pd.concat(frames)\n",
    "datav1 = finaldata.drop([\"Context\",\"Crime ID\"], axis='columns')\n",
    "\n",
    "datav1.shape\n"
   ]
  },
  {
   "cell_type": "code",
   "execution_count": 14,
   "metadata": {},
   "outputs": [
    {
     "data": {
      "text/plain": [
       "Index(['Month', 'Reported by', 'Falls within', 'Longitude', 'Latitude',\n",
       "       'Location', 'LSOA code', 'LSOA name', 'Crime type',\n",
       "       'Last outcome category'],\n",
       "      dtype='object')"
      ]
     },
     "execution_count": 14,
     "metadata": {},
     "output_type": "execute_result"
    }
   ],
   "source": [
    "datav1.columns"
   ]
  }
 ],
 "metadata": {
  "kernelspec": {
   "display_name": "base",
   "language": "python",
   "name": "python3"
  },
  "language_info": {
   "codemirror_mode": {
    "name": "ipython",
    "version": 3
   },
   "file_extension": ".py",
   "mimetype": "text/x-python",
   "name": "python",
   "nbconvert_exporter": "python",
   "pygments_lexer": "ipython3",
   "version": "3.9.13"
  },
  "orig_nbformat": 4,
  "vscode": {
   "interpreter": {
    "hash": "2d3e6edf736353ee3259c6b28169c3500cb0a72da26ad9d5b69b4cd8c0bd15f1"
   }
  }
 },
 "nbformat": 4,
 "nbformat_minor": 2
}
