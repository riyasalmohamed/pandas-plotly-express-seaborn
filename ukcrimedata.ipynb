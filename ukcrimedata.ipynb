{
 "cells": [
  {
   "cell_type": "code",
   "execution_count": 10,
   "metadata": {},
   "outputs": [],
   "source": [
    "import pandas as pd\n",
    "import plotly.express as px\n"
   ]
  },
  {
   "cell_type": "code",
   "execution_count": 11,
   "metadata": {},
   "outputs": [
    {
     "data": {
      "text/plain": [
       "(179222, 10)"
      ]
     },
     "execution_count": 11,
     "metadata": {},
     "output_type": "execute_result"
    }
   ],
   "source": [
    "data=pd.read_csv(\"C:/Users/Syed - DM/Downloads/ukcrimedata/2023-01-metropolitan-street.csv\")\n",
    "data1=pd.read_csv(\"C:/Users/Syed - DM/Downloads/ukcrimedata/2023-01-norfolk-street.csv\")\n",
    "data2=pd.read_csv(\"C:/Users/Syed - DM/Downloads/ukcrimedata/2023-01-northamptonshire-street.csv\")\n",
    "data3=pd.read_csv(\"C:/Users/Syed - DM/Downloads/ukcrimedata/2023-01-northern-ireland-street.csv\")\n",
    "data4=pd.read_csv(\"C:/Users/Syed - DM/Downloads/ukcrimedata/2023-01-northumbria-street.csv\")\n",
    "data5=pd.read_csv(\"C:/Users/Syed - DM/Downloads/ukcrimedata/2023-01-north-wales-street.csv\")\n",
    "data6=pd.read_csv(\"C:/Users/Syed - DM/Downloads/ukcrimedata/2023-01-north-yorkshire-street.csv\")\n",
    "data7=pd.read_csv(\"C:/Users/Syed - DM/Downloads/ukcrimedata/2023-01-nottinghamshire-street.csv\")\n",
    "data8=pd.read_csv(\"C:/Users/Syed - DM/Downloads/ukcrimedata/2023-01-south-wales-street.csv\")\n",
    "data9=pd.read_csv(\"C:/Users/Syed - DM/Downloads/ukcrimedata/2023-01-south-yorkshire-street.csv\")\n",
    "data10=pd.read_csv(\"C:/Users/Syed - DM/Downloads/ukcrimedata/2023-01-staffordshire-street.csv\")\n",
    "\n",
    "frames = [data,data1,data2,data3,data4,data5,data6,data7,data8,data9,data10]\n",
    "\n",
    "finaldata = pd.concat(frames)\n",
    "datav1 = finaldata.drop([\"Context\",\"Crime ID\"], axis='columns')\n",
    "\n",
    "datav1.shape\n"
   ]
  },
  {
   "cell_type": "code",
   "execution_count": 14,
   "metadata": {},
   "outputs": [
    {
     "data": {
      "text/plain": [
       "Index(['Month', 'Reported by', 'Falls within', 'Longitude', 'Latitude',\n",
       "       'Location', 'LSOA code', 'LSOA name', 'Crime type',\n",
       "       'Last outcome category'],\n",
       "      dtype='object')"
      ]
     },
     "execution_count": 14,
     "metadata": {},
     "output_type": "execute_result"
    }
   ],
   "source": [
    "datav1.columns\n"
   ]
  },
  {
   "cell_type": "code",
   "execution_count": 16,
   "metadata": {},
   "outputs": [
    {
     "data": {
      "text/plain": [
       "1792220"
      ]
     },
     "execution_count": 16,
     "metadata": {},
     "output_type": "execute_result"
    }
   ],
   "source": [
    "datav1.size"
   ]
  },
  {
   "cell_type": "code",
   "execution_count": 17,
   "metadata": {},
   "outputs": [
    {
     "data": {
      "text/plain": [
       "Month                    179222\n",
       "Reported by              179222\n",
       "Falls within             179222\n",
       "Longitude                179222\n",
       "Latitude                 179222\n",
       "Location                 179222\n",
       "LSOA code                179222\n",
       "LSOA name                179222\n",
       "Crime type               179222\n",
       "Last outcome category    179222\n",
       "dtype: int64"
      ]
     },
     "execution_count": 17,
     "metadata": {},
     "output_type": "execute_result"
    }
   ],
   "source": [
    "datav1.isnull( ).count( )"
   ]
  },
  {
   "cell_type": "code",
   "execution_count": 32,
   "metadata": {},
   "outputs": [
    {
     "data": {
      "text/html": [
       "<div>\n",
       "<style scoped>\n",
       "    .dataframe tbody tr th:only-of-type {\n",
       "        vertical-align: middle;\n",
       "    }\n",
       "\n",
       "    .dataframe tbody tr th {\n",
       "        vertical-align: top;\n",
       "    }\n",
       "\n",
       "    .dataframe thead th {\n",
       "        text-align: right;\n",
       "    }\n",
       "</style>\n",
       "<table border=\"1\" class=\"dataframe\">\n",
       "  <thead>\n",
       "    <tr style=\"text-align: right;\">\n",
       "      <th></th>\n",
       "      <th>Month</th>\n",
       "      <th>Context</th>\n",
       "    </tr>\n",
       "    <tr>\n",
       "      <th>Crime type</th>\n",
       "      <th></th>\n",
       "      <th></th>\n",
       "    </tr>\n",
       "  </thead>\n",
       "  <tbody>\n",
       "    <tr>\n",
       "      <th>Anti-social behaviour</th>\n",
       "      <td>28744</td>\n",
       "      <td>0</td>\n",
       "    </tr>\n",
       "    <tr>\n",
       "      <th>Bicycle theft</th>\n",
       "      <td>1637</td>\n",
       "      <td>0</td>\n",
       "    </tr>\n",
       "    <tr>\n",
       "      <th>Burglary</th>\n",
       "      <td>8979</td>\n",
       "      <td>0</td>\n",
       "    </tr>\n",
       "    <tr>\n",
       "      <th>Criminal damage and arson</th>\n",
       "      <td>12893</td>\n",
       "      <td>0</td>\n",
       "    </tr>\n",
       "    <tr>\n",
       "      <th>Drugs</th>\n",
       "      <td>6198</td>\n",
       "      <td>0</td>\n",
       "    </tr>\n",
       "    <tr>\n",
       "      <th>Other crime</th>\n",
       "      <td>3146</td>\n",
       "      <td>0</td>\n",
       "    </tr>\n",
       "    <tr>\n",
       "      <th>Other theft</th>\n",
       "      <td>17128</td>\n",
       "      <td>0</td>\n",
       "    </tr>\n",
       "    <tr>\n",
       "      <th>Possession of weapons</th>\n",
       "      <td>1272</td>\n",
       "      <td>0</td>\n",
       "    </tr>\n",
       "    <tr>\n",
       "      <th>Public order</th>\n",
       "      <td>10682</td>\n",
       "      <td>0</td>\n",
       "    </tr>\n",
       "    <tr>\n",
       "      <th>Robbery</th>\n",
       "      <td>3284</td>\n",
       "      <td>0</td>\n",
       "    </tr>\n",
       "  </tbody>\n",
       "</table>\n",
       "</div>"
      ],
      "text/plain": [
       "                           Month  Context\n",
       "Crime type                               \n",
       "Anti-social behaviour      28744        0\n",
       "Bicycle theft               1637        0\n",
       "Burglary                    8979        0\n",
       "Criminal damage and arson  12893        0\n",
       "Drugs                       6198        0\n",
       "Other crime                 3146        0\n",
       "Other theft                17128        0\n",
       "Possession of weapons       1272        0\n",
       "Public order               10682        0\n",
       "Robbery                     3284        0"
      ]
     },
     "execution_count": 32,
     "metadata": {},
     "output_type": "execute_result"
    }
   ],
   "source": [
    "datav1 = finaldata.drop([\"Crime ID\",\"Reported by\", \"Falls within\", \"Longitude\", \"Latitude\",\n",
    "       \"Location\", \"LSOA code\", \"LSOA name\",\n",
    "       \"Last outcome category\"], axis='columns')\n",
    "crime_type_data=datav1.groupby([\"Crime type\"]).count()\n",
    "crime_type_data.head(10)\n"
   ]
  },
  {
   "cell_type": "code",
   "execution_count": null,
   "metadata": {},
   "outputs": [],
   "source": []
  }
 ],
 "metadata": {
  "kernelspec": {
   "display_name": "base",
   "language": "python",
   "name": "python3"
  },
  "language_info": {
   "codemirror_mode": {
    "name": "ipython",
    "version": 3
   },
   "file_extension": ".py",
   "mimetype": "text/x-python",
   "name": "python",
   "nbconvert_exporter": "python",
   "pygments_lexer": "ipython3",
   "version": "3.9.13"
  },
  "orig_nbformat": 4,
  "vscode": {
   "interpreter": {
    "hash": "2d3e6edf736353ee3259c6b28169c3500cb0a72da26ad9d5b69b4cd8c0bd15f1"
   }
  }
 },
 "nbformat": 4,
 "nbformat_minor": 2
}
