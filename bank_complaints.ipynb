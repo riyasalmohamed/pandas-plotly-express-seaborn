{
 "cells": [
  {
   "cell_type": "code",
   "execution_count": 2,
   "metadata": {},
   "outputs": [
    {
     "name": "stderr",
     "output_type": "stream",
     "text": [
      "C:\\Users\\Riyas\\AppData\\Local\\Temp\\ipykernel_23312\\1278784177.py:2: DtypeWarning: Columns (6,12) have mixed types. Specify dtype option on import or set low_memory=False.\n",
      "  one_df=pd.read_csv('D:/Github/Debt Collection Complaints (India)/full_dataset.csv')\n"
     ]
    }
   ],
   "source": [
    "import pandas as pd \n",
    "one_df=pd.read_csv('D:/Github/Debt Collection Complaints (India)/full_dataset.csv')"
   ]
  },
  {
   "cell_type": "code",
   "execution_count": 4,
   "metadata": {},
   "outputs": [
    {
     "name": "stdout",
     "output_type": "stream",
     "text": [
      "<class 'pandas.core.frame.DataFrame'>\n",
      "RangeIndex: 738795 entries, 0 to 738794\n",
      "Data columns (total 19 columns):\n",
      " #   Column                        Non-Null Count   Dtype \n",
      "---  ------                        --------------   ----- \n",
      " 0   index                         738795 non-null  int64 \n",
      " 1   Date received                 738795 non-null  object\n",
      " 2   Product                       738795 non-null  object\n",
      " 3   Sub-product                   519487 non-null  object\n",
      " 4   Issue                         738795 non-null  object\n",
      " 5   Sub-issue                     307156 non-null  object\n",
      " 6   Consumer complaint narrative  141269 non-null  object\n",
      " 7   Company public response       178491 non-null  object\n",
      " 8   Company                       738795 non-null  object\n",
      " 9   State                         733026 non-null  object\n",
      " 10  ZIP code                      733011 non-null  object\n",
      " 11  Tags                          103968 non-null  object\n",
      " 12  Consumer consent provided?    256640 non-null  object\n",
      " 13  Submitted via                 738795 non-null  object\n",
      " 14  Date sent to company          738795 non-null  object\n",
      " 15  Company response to consumer  738795 non-null  object\n",
      " 16  Timely response?              738795 non-null  object\n",
      " 17  Consumer disputed?            692164 non-null  object\n",
      " 18  Complaint ID                  738795 non-null  int64 \n",
      "dtypes: int64(2), object(17)\n",
      "memory usage: 107.1+ MB\n"
     ]
    }
   ],
   "source": [
    "one_df.info()"
   ]
  },
  {
   "cell_type": "code",
   "execution_count": 8,
   "metadata": {},
   "outputs": [
    {
     "data": {
      "text/plain": [
       "(738795, 19)"
      ]
     },
     "execution_count": 8,
     "metadata": {},
     "output_type": "execute_result"
    }
   ],
   "source": [
    "one_df.shape"
   ]
  },
  {
   "cell_type": "code",
   "execution_count": 9,
   "metadata": {},
   "outputs": [
    {
     "data": {
      "text/plain": [
       "index                           738795\n",
       "Date received                     1934\n",
       "Product                             12\n",
       "Sub-product                         47\n",
       "Issue                               95\n",
       "Sub-issue                           68\n",
       "Consumer complaint narrative    138740\n",
       "Company public response             10\n",
       "Company                           4154\n",
       "State                               62\n",
       "ZIP code                         28286\n",
       "Tags                                 3\n",
       "Consumer consent provided?           4\n",
       "Submitted via                        6\n",
       "Date sent to company              1883\n",
       "Company response to consumer         8\n",
       "Timely response?                     2\n",
       "Consumer disputed?                   2\n",
       "Complaint ID                    738795\n",
       "dtype: int64"
      ]
     },
     "execution_count": 9,
     "metadata": {},
     "output_type": "execute_result"
    }
   ],
   "source": [
    "one_df.nunique()"
   ]
  },
  {
   "cell_type": "code",
   "execution_count": 12,
   "metadata": {},
   "outputs": [
    {
     "data": {
      "text/plain": [
       "array(['VA', 'CA', 'NY', 'GA', 'CT', 'TX', 'FL', 'OH', 'NV', 'NC', 'PA',\n",
       "       'NJ', 'WA', 'HI', 'IL', 'MI', 'MA', 'KY', 'TN', 'MO', 'MN', 'WI',\n",
       "       'WY', 'VT', 'CO', 'AZ', 'DE', 'IN', 'SC', 'IA', 'AL', 'OR', 'OK',\n",
       "       'MT', 'NH', 'MD', 'KS', 'ME', nan, 'ID', 'RI', 'PR', 'NM', 'LA',\n",
       "       'DC', 'UT', 'MS', 'AR', 'NE', 'WV', 'AE', 'AK', 'SD', 'ND', 'MH',\n",
       "       'AP', 'FM', 'VI', 'GU', 'MP', 'AS', 'PW', 'AA'], dtype=object)"
      ]
     },
     "execution_count": 12,
     "metadata": {},
     "output_type": "execute_result"
    }
   ],
   "source": [
    "one_df['State'].unique()"
   ]
  },
  {
   "cell_type": "code",
   "execution_count": 15,
   "metadata": {},
   "outputs": [
    {
     "data": {
      "text/plain": [
       "array(['Phone', 'Web', 'Fax', 'Referral', 'Postal mail', 'Email'],\n",
       "      dtype=object)"
      ]
     },
     "execution_count": 15,
     "metadata": {},
     "output_type": "execute_result"
    }
   ],
   "source": [
    "one_df['Submitted via'].unique()\n"
   ]
  },
  {
   "cell_type": "code",
   "execution_count": 16,
   "metadata": {},
   "outputs": [
    {
     "data": {
      "text/plain": [
       "array(['Consumer Loan', 'Bank account or service', 'Mortgage',\n",
       "       'Debt collection', 'Credit card', 'Credit reporting',\n",
       "       'Student loan', 'Money transfers', 'Payday loan', 'Prepaid card',\n",
       "       'Other financial service', 'Virtual currency'], dtype=object)"
      ]
     },
     "execution_count": 16,
     "metadata": {},
     "output_type": "execute_result"
    }
   ],
   "source": [
    "one_df['Product'].unique()"
   ]
  },
  {
   "cell_type": "code",
   "execution_count": 17,
   "metadata": {},
   "outputs": [
    {
     "data": {
      "text/plain": [
       "array([nan,\n",
       "       'Company has responded to the consumer and the CFPB and chooses not to provide a public response',\n",
       "       'Company chooses not to provide a public response',\n",
       "       'Company believes it acted appropriately as authorized by contract or law',\n",
       "       \"Company can't verify or dispute the facts in the complaint\",\n",
       "       'Company believes complaint caused principally by actions of third party outside the control or direction of the company',\n",
       "       'Company disputes the facts presented in the complaint',\n",
       "       'Company believes complaint represents an opportunity for improvement to better serve consumers',\n",
       "       'Company believes the complaint is the result of a misunderstanding',\n",
       "       'Company believes complaint is the result of an isolated error',\n",
       "       'Company believes complaint relates to a discontinued policy or procedure'],\n",
       "      dtype=object)"
      ]
     },
     "execution_count": 17,
     "metadata": {},
     "output_type": "execute_result"
    }
   ],
   "source": [
    "one_df['Company public response'].unique()"
   ]
  }
 ],
 "metadata": {
  "kernelspec": {
   "display_name": "Python 3",
   "language": "python",
   "name": "python3"
  },
  "language_info": {
   "codemirror_mode": {
    "name": "ipython",
    "version": 3
   },
   "file_extension": ".py",
   "mimetype": "text/x-python",
   "name": "python",
   "nbconvert_exporter": "python",
   "pygments_lexer": "ipython3",
   "version": "3.11.4"
  },
  "orig_nbformat": 4
 },
 "nbformat": 4,
 "nbformat_minor": 2
}
